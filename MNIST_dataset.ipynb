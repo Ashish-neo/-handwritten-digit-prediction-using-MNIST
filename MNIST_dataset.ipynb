{
  "nbformat": 4,
  "nbformat_minor": 0,
  "metadata": {
    "colab": {
      "provenance": []
    },
    "kernelspec": {
      "name": "python3",
      "display_name": "Python 3"
    },
    "language_info": {
      "name": "python"
    }
  },
  "cells": [
    {
      "cell_type": "markdown",
      "source": [
        "####**we train the model on the mnist dataset to predict new given number value**"
      ],
      "metadata": {
        "id": "z76pFcOdziXl"
      }
    },
    {
      "cell_type": "code",
      "execution_count": 39,
      "metadata": {
        "id": "8fDFca0fzhLF"
      },
      "outputs": [],
      "source": [
        "#importing the relevent packages.\n",
        "import numpy as np\n",
        "import pandas as pd\n",
        "import tensorflow as tf\n",
        "import tensorflow_datasets as tfds\n"
      ]
    },
    {
      "cell_type": "code",
      "source": [
        "#load the dataset\n",
        "mnist_data,mnist_info=tfds.load(name='mnist',with_info=True,as_supervised=True)"
      ],
      "metadata": {
        "id": "2rR5bmYb0SzK"
      },
      "execution_count": 40,
      "outputs": []
    },
    {
      "cell_type": "code",
      "source": [
        "mnist_train,mnist_test=mnist_data['train'],mnist_data['test']\n",
        "\n",
        "mnist_val=0.1*mnist_info.splits['train'].num_examples\n",
        "mnist_val=tf.cast(mnist_val,tf.int64)\n",
        "\n",
        "test_sample=mnist_info.splits['test'].num_examples\n",
        "test_sample=tf.cast(test_sample,tf.int64)"
      ],
      "metadata": {
        "id": "13-yeXm60nL6"
      },
      "execution_count": 41,
      "outputs": []
    },
    {
      "cell_type": "code",
      "source": [
        "def scale(image,label):\n",
        "  image=tf.cast(image,tf.float32)\n",
        "  image/=255.\n",
        "  return image,label"
      ],
      "metadata": {
        "id": "OaxerUnm1BYo"
      },
      "execution_count": 42,
      "outputs": []
    },
    {
      "cell_type": "code",
      "source": [
        "scale_train_val=mnist_train.map(scale)\n",
        "scale_test=mnist_test.map(scale)"
      ],
      "metadata": {
        "id": "Zh8egdXk1JF-"
      },
      "execution_count": 43,
      "outputs": []
    },
    {
      "cell_type": "code",
      "source": [
        "buffer=1000\n",
        "shuffer_train_and_val=scale_train_val.shuffle(buffer)\n",
        "val_data=shuffer_train_and_val.take(mnist_val)\n",
        "train_data=shuffer_train_and_val.skip(mnist_val)"
      ],
      "metadata": {
        "id": "c_PHCArq4Z5N"
      },
      "execution_count": 44,
      "outputs": []
    },
    {
      "cell_type": "code",
      "source": [
        "BATCH_SIZE=100\n",
        "train_data=train_data.batch(BATCH_SIZE)\n",
        "val_data=val_data.batch(mnist_val)\n",
        "val_inputs,val_targets=next(iter(val_data))"
      ],
      "metadata": {
        "id": "1LHEpcdQ-15d"
      },
      "execution_count": 45,
      "outputs": []
    },
    {
      "cell_type": "markdown",
      "source": [
        "**model building**\n",
        "\n",
        "there are 784 input layer and 10 output nodes\n"
      ],
      "metadata": {
        "id": "cVfvFw-2Asbc"
      }
    },
    {
      "cell_type": "code",
      "source": [
        "inputs_size=784\n",
        "outputs_size=10\n",
        "hidden_layer_size=50\n",
        "\n",
        "model=tf.keras.Sequential([\n",
        "        tf.keras.layers.Flatten(input_shape=(28,28,1)),\n",
        "        tf.keras.layers.Dense(hidden_layer_size,activation='relu'),\n",
        "        tf.keras.layers.Dense(hidden_layer_size,activation='relu'),\n",
        "        tf.keras.layers.Dense(outputs_size,activation='softmax')\n",
        "    ])"
      ],
      "metadata": {
        "id": "js8DkEhDAJC_"
      },
      "execution_count": 46,
      "outputs": []
    },
    {
      "cell_type": "code",
      "source": [
        "#run the model and fit the optimizer\n",
        "model.compile(optimizer='Adam',loss='sparse_categorical_crossentropy',metrics=['accuracy'])"
      ],
      "metadata": {
        "id": "wiaXOrS2FEUj"
      },
      "execution_count": 47,
      "outputs": []
    },
    {
      "cell_type": "code",
      "source": [
        "epoch=20\n",
        "model.fit(train_data,epochs=epoch,validation_data=(val_inputs,val_targets),verbose=2)"
      ],
      "metadata": {
        "colab": {
          "base_uri": "https://localhost:8080/"
        },
        "id": "wV5PYHUOHAAq",
        "outputId": "3a83d269-20e1-4b8d-d125-6ddf62275f87"
      },
      "execution_count": 48,
      "outputs": [
        {
          "output_type": "stream",
          "name": "stdout",
          "text": [
            "Epoch 1/20\n",
            "540/540 - 7s - loss: 0.4157 - accuracy: 0.8813 - val_loss: 0.2033 - val_accuracy: 0.9422 - 7s/epoch - 13ms/step\n",
            "Epoch 2/20\n",
            "540/540 - 5s - loss: 0.1757 - accuracy: 0.9483 - val_loss: 0.1595 - val_accuracy: 0.9515 - 5s/epoch - 9ms/step\n",
            "Epoch 3/20\n",
            "540/540 - 5s - loss: 0.1316 - accuracy: 0.9612 - val_loss: 0.1462 - val_accuracy: 0.9550 - 5s/epoch - 8ms/step\n",
            "Epoch 4/20\n",
            "540/540 - 5s - loss: 0.1051 - accuracy: 0.9692 - val_loss: 0.1305 - val_accuracy: 0.9608 - 5s/epoch - 8ms/step\n",
            "Epoch 5/20\n",
            "540/540 - 5s - loss: 0.0885 - accuracy: 0.9737 - val_loss: 0.1268 - val_accuracy: 0.9623 - 5s/epoch - 9ms/step\n",
            "Epoch 6/20\n",
            "540/540 - 5s - loss: 0.0741 - accuracy: 0.9778 - val_loss: 0.1195 - val_accuracy: 0.9662 - 5s/epoch - 9ms/step\n",
            "Epoch 7/20\n",
            "540/540 - 5s - loss: 0.0643 - accuracy: 0.9815 - val_loss: 0.1211 - val_accuracy: 0.9635 - 5s/epoch - 8ms/step\n",
            "Epoch 8/20\n",
            "540/540 - 5s - loss: 0.0557 - accuracy: 0.9832 - val_loss: 0.1164 - val_accuracy: 0.9668 - 5s/epoch - 8ms/step\n",
            "Epoch 9/20\n",
            "540/540 - 5s - loss: 0.0487 - accuracy: 0.9855 - val_loss: 0.1062 - val_accuracy: 0.9693 - 5s/epoch - 9ms/step\n",
            "Epoch 10/20\n",
            "540/540 - 4s - loss: 0.0427 - accuracy: 0.9874 - val_loss: 0.1025 - val_accuracy: 0.9710 - 4s/epoch - 8ms/step\n",
            "Epoch 11/20\n",
            "540/540 - 5s - loss: 0.0384 - accuracy: 0.9884 - val_loss: 0.1059 - val_accuracy: 0.9702 - 5s/epoch - 8ms/step\n",
            "Epoch 12/20\n",
            "540/540 - 4s - loss: 0.0345 - accuracy: 0.9902 - val_loss: 0.1088 - val_accuracy: 0.9693 - 4s/epoch - 8ms/step\n",
            "Epoch 13/20\n",
            "540/540 - 5s - loss: 0.0316 - accuracy: 0.9905 - val_loss: 0.1036 - val_accuracy: 0.9732 - 5s/epoch - 9ms/step\n",
            "Epoch 14/20\n",
            "540/540 - 4s - loss: 0.0282 - accuracy: 0.9916 - val_loss: 0.1089 - val_accuracy: 0.9717 - 4s/epoch - 8ms/step\n",
            "Epoch 15/20\n",
            "540/540 - 5s - loss: 0.0250 - accuracy: 0.9928 - val_loss: 0.1083 - val_accuracy: 0.9707 - 5s/epoch - 9ms/step\n",
            "Epoch 16/20\n",
            "540/540 - 4s - loss: 0.0217 - accuracy: 0.9935 - val_loss: 0.1098 - val_accuracy: 0.9738 - 4s/epoch - 8ms/step\n",
            "Epoch 17/20\n",
            "540/540 - 5s - loss: 0.0187 - accuracy: 0.9948 - val_loss: 0.1098 - val_accuracy: 0.9740 - 5s/epoch - 8ms/step\n",
            "Epoch 18/20\n",
            "540/540 - 5s - loss: 0.0200 - accuracy: 0.9944 - val_loss: 0.1230 - val_accuracy: 0.9705 - 5s/epoch - 10ms/step\n",
            "Epoch 19/20\n",
            "540/540 - 4s - loss: 0.0160 - accuracy: 0.9958 - val_loss: 0.1187 - val_accuracy: 0.9707 - 4s/epoch - 8ms/step\n",
            "Epoch 20/20\n",
            "540/540 - 4s - loss: 0.0163 - accuracy: 0.9952 - val_loss: 0.1154 - val_accuracy: 0.9707 - 4s/epoch - 8ms/step\n"
          ]
        },
        {
          "output_type": "execute_result",
          "data": {
            "text/plain": [
              "<keras.callbacks.History at 0x7f77a500a910>"
            ]
          },
          "metadata": {},
          "execution_count": 48
        }
      ]
    },
    {
      "cell_type": "code",
      "source": [
        "#test our model\n",
        "test_loss,test_accuracy=model.evaluate(scale_test)"
      ],
      "metadata": {
        "id": "Vu0hh6GbHxZj"
      },
      "execution_count": null,
      "outputs": []
    },
    {
      "cell_type": "code",
      "source": [
        "print(\"Test loss : {0:2f}. Test Accuracy : {1:2f}% \".format(test_loss,test_accuracy*100.))"
      ],
      "metadata": {
        "id": "9fGLstMKP0iH"
      },
      "execution_count": null,
      "outputs": []
    },
    {
      "cell_type": "code",
      "source": [],
      "metadata": {
        "id": "bnbZk1gRSHus"
      },
      "execution_count": null,
      "outputs": []
    }
  ]
}